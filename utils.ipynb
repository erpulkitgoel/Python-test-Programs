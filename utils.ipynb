{
 "cells": [
  {
   "cell_type": "code",
   "execution_count": 4,
   "metadata": {},
   "outputs": [],
   "source": [
    "from flask import make_response\n",
    "\n",
    "JSON_MIME_TYPE = 'application/json'\n",
    "\n",
    "\n",
    "def search_book(books, book_id):\n",
    "    for book in books:\n",
    "        if book['id'] == book_id:\n",
    "            return book\n",
    "\n",
    "\n",
    "def json_response(data='', status=200, headers=None):\n",
    "    headers = headers or {}\n",
    "    if 'Content-Type' not in headers:\n",
    "        headers['Content-Type'] = JSON_MIME_TYPE\n",
    "\n",
    "    return make_response(data, status, headers)"
   ]
  },
  {
   "cell_type": "code",
   "execution_count": null,
   "metadata": {},
   "outputs": [],
   "source": []
  }
 ],
 "metadata": {
  "kernelspec": {
   "display_name": "Python 3",
   "language": "python",
   "name": "python3"
  },
  "language_info": {
   "codemirror_mode": {
    "name": "ipython",
    "version": 3
   },
   "file_extension": ".py",
   "mimetype": "text/x-python",
   "name": "python",
   "nbconvert_exporter": "python",
   "pygments_lexer": "ipython3",
   "version": "3.7.3"
  }
 },
 "nbformat": 4,
 "nbformat_minor": 2
}
