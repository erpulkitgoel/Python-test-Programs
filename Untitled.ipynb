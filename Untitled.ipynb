{
 "cells": [
  {
   "cell_type": "code",
   "execution_count": 60,
   "metadata": {},
   "outputs": [],
   "source": [
    "\"\"\" Importing the basic Libraries in Python\"\"\"\n",
    "import numpy as np\n",
    "import pandas as pd\n",
    "import matplotlib.pyplot as plt\n",
    "import seaborn as sns\n",
    "%matplotlib inline\n"
   ]
  },
  {
   "cell_type": "code",
   "execution_count": 61,
   "metadata": {},
   "outputs": [
    {
     "data": {
      "text/html": [
       "<div>\n",
       "<style scoped>\n",
       "    .dataframe tbody tr th:only-of-type {\n",
       "        vertical-align: middle;\n",
       "    }\n",
       "\n",
       "    .dataframe tbody tr th {\n",
       "        vertical-align: top;\n",
       "    }\n",
       "\n",
       "    .dataframe thead th {\n",
       "        text-align: right;\n",
       "    }\n",
       "</style>\n",
       "<table border=\"1\" class=\"dataframe\">\n",
       "  <thead>\n",
       "    <tr style=\"text-align: right;\">\n",
       "      <th></th>\n",
       "      <th>R&amp;D Spend</th>\n",
       "      <th>Administration</th>\n",
       "      <th>Marketing Spend</th>\n",
       "      <th>State</th>\n",
       "      <th>Profit</th>\n",
       "    </tr>\n",
       "  </thead>\n",
       "  <tbody>\n",
       "    <tr>\n",
       "      <th>0</th>\n",
       "      <td>162345.28</td>\n",
       "      <td>13283.11</td>\n",
       "      <td>34777.22</td>\n",
       "      <td>1</td>\n",
       "      <td>192221</td>\n",
       "    </tr>\n",
       "    <tr>\n",
       "      <th>1</th>\n",
       "      <td>162438.22</td>\n",
       "      <td>13422.11</td>\n",
       "      <td>45876.98</td>\n",
       "      <td>2</td>\n",
       "      <td>191221</td>\n",
       "    </tr>\n",
       "    <tr>\n",
       "      <th>2</th>\n",
       "      <td>124213.11</td>\n",
       "      <td>24233.34</td>\n",
       "      <td>63262.76</td>\n",
       "      <td>3</td>\n",
       "      <td>191005</td>\n",
       "    </tr>\n",
       "    <tr>\n",
       "      <th>3</th>\n",
       "      <td>114421.43</td>\n",
       "      <td>13976.76</td>\n",
       "      <td>33635.11</td>\n",
       "      <td>1</td>\n",
       "      <td>182988</td>\n",
       "    </tr>\n",
       "    <tr>\n",
       "      <th>4</th>\n",
       "      <td>113411.23</td>\n",
       "      <td>12732.11</td>\n",
       "      <td>36651.11</td>\n",
       "      <td>3</td>\n",
       "      <td>166281</td>\n",
       "    </tr>\n",
       "  </tbody>\n",
       "</table>\n",
       "</div>"
      ],
      "text/plain": [
       "   R&D Spend  Administration  Marketing Spend  State  Profit\n",
       "0  162345.28        13283.11         34777.22      1  192221\n",
       "1  162438.22        13422.11         45876.98      2  191221\n",
       "2  124213.11        24233.34         63262.76      3  191005\n",
       "3  114421.43        13976.76         33635.11      1  182988\n",
       "4  113411.23        12732.11         36651.11      3  166281"
      ]
     },
     "execution_count": 61,
     "metadata": {},
     "output_type": "execute_result"
    }
   ],
   "source": [
    "\"\"\" Importing the datasets and extracting the dependent and indendent variables\"\"\"\n",
    "companies = pd.read_csv(r'C:\\Users\\pulkit.goel\\Desktop\\RegressionSample.csv')\n",
    "X = companies.iloc[:,:-1].values\n",
    "Y = companies.iloc[:,:4].values\n",
    "companies.head()\n"
   ]
  },
  {
   "cell_type": "code",
   "execution_count": 62,
   "metadata": {},
   "outputs": [
    {
     "data": {
      "text/plain": [
       "<matplotlib.axes._subplots.AxesSubplot at 0x1f39fce9518>"
      ]
     },
     "execution_count": 62,
     "metadata": {},
     "output_type": "execute_result"
    },
    {
     "data": {
      "image/png": "[encoded data removed]",
      "text/plain": [
       "<Figure size 432x288 with 2 Axes>"
      ]
     },
     "metadata": {
      "needs_background": "light"
     },
     "output_type": "display_data"
    }
   ],
   "source": [
    "# Data Visualization\n",
    "# Building the Correlation matrix\n",
    "sns.heatmap(companies.corr())"
   ]
  },
  {
   "cell_type": "code",
   "execution_count": 63,
   "metadata": {},
   "outputs": [
    {
     "name": "stdout",
     "output_type": "stream",
     "text": [
      "X:: [1. 2. 3. 1. 3. 2.]\n",
      "[162345.28 162438.22 124213.11 114421.43 113411.23 113111.23]\n",
      "[13283.11 13422.11 24233.34 13976.76 12732.11 12122.11]\n",
      "[34777.22 45876.98 63262.76 33635.11 36651.11 43211.34]\n",
      "3:: [0. 1. 2. 0. 2. 1.]\n"
     ]
    },
    {
     "ename": "IndexError",
     "evalue": "index 4 is out of bounds for axis 1 with size 4",
     "output_type": "error",
     "traceback": [
      "\u001b[1;31m---------------------------------------------------------------------------\u001b[0m",
      "\u001b[1;31mIndexError\u001b[0m                                Traceback (most recent call last)",
      "\u001b[1;32m<ipython-input-63-2b87e8e1c7d3>\u001b[0m in \u001b[0;36m<module>\u001b[1;34m\u001b[0m\n\u001b[0;32m      8\u001b[0m \u001b[0mprint\u001b[0m\u001b[1;33m(\u001b[0m\u001b[0mX\u001b[0m\u001b[1;33m[\u001b[0m\u001b[1;33m:\u001b[0m\u001b[1;33m,\u001b[0m\u001b[1;36m2\u001b[0m\u001b[1;33m]\u001b[0m\u001b[1;33m)\u001b[0m\u001b[1;33m\u001b[0m\u001b[1;33m\u001b[0m\u001b[0m\n\u001b[0;32m      9\u001b[0m \u001b[0mprint\u001b[0m\u001b[1;33m(\u001b[0m\u001b[1;34m\"3::\"\u001b[0m\u001b[1;33m,\u001b[0m \u001b[0mX\u001b[0m\u001b[1;33m[\u001b[0m\u001b[1;33m:\u001b[0m\u001b[1;33m,\u001b[0m\u001b[1;36m3\u001b[0m\u001b[1;33m]\u001b[0m\u001b[1;33m)\u001b[0m\u001b[1;33m\u001b[0m\u001b[1;33m\u001b[0m\u001b[0m\n\u001b[1;32m---> 10\u001b[1;33m \u001b[0mprint\u001b[0m\u001b[1;33m(\u001b[0m\u001b[0mX\u001b[0m\u001b[1;33m[\u001b[0m\u001b[1;33m:\u001b[0m\u001b[1;33m,\u001b[0m\u001b[1;36m4\u001b[0m\u001b[1;33m]\u001b[0m\u001b[1;33m)\u001b[0m\u001b[1;33m\u001b[0m\u001b[1;33m\u001b[0m\u001b[0m\n\u001b[0m\u001b[0;32m     11\u001b[0m \u001b[0mprint\u001b[0m\u001b[1;33m(\u001b[0m\u001b[0mX\u001b[0m\u001b[1;33m[\u001b[0m\u001b[1;33m:\u001b[0m\u001b[1;33m,\u001b[0m\u001b[1;36m5\u001b[0m\u001b[1;33m]\u001b[0m\u001b[1;33m)\u001b[0m\u001b[1;33m\u001b[0m\u001b[1;33m\u001b[0m\u001b[0m\n\u001b[0;32m     12\u001b[0m \u001b[0monehotencoder\u001b[0m \u001b[1;33m=\u001b[0m \u001b[0mOneHotEncoder\u001b[0m\u001b[1;33m(\u001b[0m\u001b[0mcategorical_features\u001b[0m\u001b[1;33m=\u001b[0m \u001b[1;33m[\u001b[0m\u001b[1;36m3\u001b[0m\u001b[1;33m]\u001b[0m\u001b[1;33m)\u001b[0m\u001b[1;33m\u001b[0m\u001b[1;33m\u001b[0m\u001b[0m\n",
      "\u001b[1;31mIndexError\u001b[0m: index 4 is out of bounds for axis 1 with size 4"
     ]
    }
   ],
   "source": [
    "# Importing Categorical Data\n",
    "from sklearn.preprocessing import LabelEncoder, OneHotEncoder\n",
    "labelencoder = LabelEncoder()\n",
    "print(\"X::\", X[:,3])\n",
    "X[:,3] = labelencoder.fit_transform(X[:,3])\n",
    "print(X[:,0])\n",
    "print(X[:,1])\n",
    "print(X[:,2])\n",
    "print(\"3::\", X[:,3])\n",
    "print(X[:,4])\n",
    "print(X[:,5])\n",
    "onehotencoder = OneHotEncoder(categorical_features= [3])\n",
    "X = onehotencoder.fit_transform(X).toarray()\n",
    "print(X) "
   ]
  },
  {
   "cell_type": "code",
   "execution_count": 64,
   "metadata": {},
   "outputs": [],
   "source": [
    "X= X[:,1:]\n"
   ]
  },
  {
   "cell_type": "code",
   "execution_count": 67,
   "metadata": {},
   "outputs": [
    {
     "name": "stdout",
     "output_type": "stream",
     "text": [
      "[[1.342211e+04 4.587698e+04 1.000000e+00]\n",
      " [1.397676e+04 3.363511e+04 0.000000e+00]\n",
      " [1.328311e+04 3.477722e+04 0.000000e+00]\n",
      " [1.273211e+04 3.665111e+04 2.000000e+00]]\n",
      "[[1.6243822e+05 1.3422110e+04 4.5876980e+04 2.0000000e+00]\n",
      " [1.1442143e+05 1.3976760e+04 3.3635110e+04 1.0000000e+00]\n",
      " [1.6234528e+05 1.3283110e+04 3.4777220e+04 1.0000000e+00]\n",
      " [1.1341123e+05 1.2732110e+04 3.6651110e+04 3.0000000e+00]]\n",
      "[[1.1311123e+05 1.2122110e+04 4.3211340e+04 2.0000000e+00]\n",
      " [1.2421311e+05 2.4233340e+04 6.3262760e+04 3.0000000e+00]]\n"
     ]
    }
   ],
   "source": [
    "# Splitting the dataSet into train Set and Test Set\n",
    "from sklearn.model_selection import train_test_split\n",
    "X_train, X_test, Y_train, Y_test = train_test_split(X,Y, test_size = 0.2, random_state = 0)\n",
    "\n",
    "print(X_train)\n",
    "print(Y_train)\n",
    "#print(X_test)\n",
    "print(Y_test)"
   ]
  },
  {
   "cell_type": "code",
   "execution_count": 66,
   "metadata": {},
   "outputs": [
    {
     "data": {
      "text/plain": [
       "LinearRegression(copy_X=True, fit_intercept=True, n_jobs=None,\n",
       "         normalize=False)"
      ]
     },
     "execution_count": 66,
     "metadata": {},
     "output_type": "execute_result"
    }
   ],
   "source": [
    "# Fitting the Mutiple Linear Regression Model to tthe training Set\n",
    "from sklearn.linear_model import LinearRegression\n",
    "regressor = LinearRegression()\n",
    "regressor.fit(X_train, Y_train)\n"
   ]
  },
  {
   "cell_type": "code",
   "execution_count": 68,
   "metadata": {},
   "outputs": [
    {
     "name": "stdout",
     "output_type": "stream",
     "text": [
      "[[ 2.28679818e+05  1.21221100e+04  4.32113400e+04  2.00000000e+00]\n",
      " [-4.57779811e+05  2.42333400e+04  6.32627600e+04  3.00000000e+00]]\n"
     ]
    }
   ],
   "source": [
    "# Predicting the test set results\n",
    "Y_predict = regressor.predict(X_test)\n",
    "print(Y_predict)"
   ]
  },
  {
   "cell_type": "code",
   "execution_count": 69,
   "metadata": {},
   "outputs": [
    {
     "name": "stdout",
     "output_type": "stream",
     "text": [
      "[[-6.10129905e+01  4.90512221e+00 -4.58719336e+04]\n",
      " [ 1.00000000e+00 -1.08356474e-16  3.99983257e-15]\n",
      " [-8.65951007e-16  1.00000000e+00 -3.43189765e-14]\n",
      " [-1.51236973e-15 -1.80383831e-17  1.00000000e+00]]\n",
      "[8.02201030e+05 1.45519152e-11 2.18278728e-11 1.00000000e+00]\n"
     ]
    }
   ],
   "source": [
    "print(regressor.coef_)\n",
    "print(regressor.intercept_)"
   ]
  },
  {
   "cell_type": "code",
   "execution_count": 70,
   "metadata": {},
   "outputs": [
    {
     "data": {
      "text/plain": [
       "-1427.2632458345408"
      ]
     },
     "execution_count": 70,
     "metadata": {},
     "output_type": "execute_result"
    }
   ],
   "source": [
    "from sklearn.metrics import r2_score\n",
    "r2_score(Y_test, Y_predict)"
   ]
  },
  {
   "cell_type": "code",
   "execution_count": null,
   "metadata": {},
   "outputs": [],
   "source": []
  }
 ],
 "metadata": {
  "kernelspec": {
   "display_name": "Python 3",
   "language": "python",
   "name": "python3"
  },
  "language_info": {
   "codemirror_mode": {
    "name": "ipython",
    "version": 3
   },
   "file_extension": ".py",
   "mimetype": "text/x-python",
   "name": "python",
   "nbconvert_exporter": "python",
   "pygments_lexer": "ipython3",
   "version": "3.7.3"
  }
 },
 "nbformat": 4,
 "nbformat_minor": 2
}
