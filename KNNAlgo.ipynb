{
 "cells": [
  {
   "cell_type": "code",
   "execution_count": 29,
   "metadata": {},
   "outputs": [
    {
     "name": "stdout",
     "output_type": "stream",
     "text": [
      "2.1,1.2,2.1,1.4,Iris-Setosa\n",
      "2.3,1.3,2.3,1.7,Iris-Setosa\n",
      "2.5,1.4,2.5,2,Iris-Pulkit\n",
      "2.7,1.5,2.7,2.3,Iris-Setosa\n",
      "2.9,1.6,2.9,2.6,Iris-Setosa\n",
      "3.1,1.7,3.1,2.9,Iris-Setosa\n",
      "3.3,1.8,3.3,3.2,Iris-Setosa\n",
      "3.5,1.9,3.5,3.5,Iris-Setosa\n",
      "3.7,2,3.7,3.8,Iris-Setosa\n",
      "3.9,2.1,3.9,4.1,Iris-Setosa\n",
      "4.1,2.2,4.1,4.4,Iris-Setosa\n",
      "4.3,2.3,4.3,4.7,Iris-Setosa\n",
      "4.5,2.4,4.5,5,Iris-Setosa\n",
      "4.7,2.5,4.7,5.3,Iris-Setosa\n",
      "4.9,2.6,4.9,5.6,Iris-Setosa\n",
      "5.1,2.7,5.1,5.9,Iris-Setosa\n",
      "5.3,2.8,5.3,6.2,Iris-Setosa\n",
      "5.5,2.9,5.5,6.5,Iris-Setosa\n"
     ]
    }
   ],
   "source": [
    "import csv\n",
    "with open(r'C:\\Users\\pulkit.goel\\Desktop\\sample.csv') as csvfile:\n",
    "    lines = csv.reader(csvfile , delimiter = ',')\n",
    "    for row in lines:\n",
    "        print(','.join(row))\n"
   ]
  },
  {
   "cell_type": "code",
   "execution_count": 30,
   "metadata": {},
   "outputs": [],
   "source": [
    "import csv\n",
    "import random\n",
    "def loadDataset(filename,split,trainingSet=[], testSet=[]):\n",
    "    with open(filename, 'r') as csvfile:\n",
    "        lines = csv.reader(csvfile)\n",
    "        dataset = list(lines)\n",
    "        for x in range(len(dataset) -1):\n",
    "            for y in range(4):\n",
    "                dataset[x][y] = float(dataset[x][y])\n",
    "            if random.random() < split:\n",
    "                trainingSet.append(dataset[x])\n",
    "            else:\n",
    "                testSet.append(dataset[x])\n",
    "            "
   ]
  },
  {
   "cell_type": "code",
   "execution_count": 31,
   "metadata": {},
   "outputs": [
    {
     "name": "stdout",
     "output_type": "stream",
     "text": [
      "Train: 9\n",
      "Test: 8\n"
     ]
    }
   ],
   "source": [
    "trainingSet = []\n",
    "testSet = []\n",
    "loadDataset(r'C:\\Users\\pulkit.goel\\Desktop\\sample.csv', 0.80, trainingSet,testSet)\n",
    "print('Train: ' + repr(len(trainingSet)))\n",
    "print('Test: ' + repr(len(testSet)))"
   ]
  },
  {
   "cell_type": "code",
   "execution_count": 32,
   "metadata": {},
   "outputs": [],
   "source": [
    "import math\n",
    "def euclideanDistance(instance1,instance2,length):\n",
    "    distance = 0\n",
    "    for x in range(length):\n",
    "        distance += pow((instance1[x]) - (instance2[x]), 2)\n",
    "    return math.sqrt(distance)"
   ]
  },
  {
   "cell_type": "code",
   "execution_count": 33,
   "metadata": {},
   "outputs": [
    {
     "name": "stdout",
     "output_type": "stream",
     "text": [
      "Distance: 3.4641016151377544\n"
     ]
    }
   ],
   "source": [
    "data1 = [2,2,2,'a']\n",
    "data2 = [4,4,4,'b']\n",
    "distance = euclideanDistance(data1, data2, 3)\n",
    "print('Distance: ' + repr(distance))"
   ]
  },
  {
   "cell_type": "code",
   "execution_count": 34,
   "metadata": {},
   "outputs": [],
   "source": [
    "import operator\n",
    "def getNeighbours(trainingSet, testInstance, k):\n",
    "    distances = []\n",
    "    length = len(testInstance) -1\n",
    "    for x in range(len(trainingSet)):\n",
    "        dist = euclideanDistance(testInstance, trainingSet[x], length)\n",
    "        distances.append((trainingSet[x], dist))\n",
    "    distances.sort(key=operator.itemgetter(1))\n",
    "    neighbours = []\n",
    "    for x in range(k):\n",
    "        neighbours.append(distances[x][0])\n",
    "    return neighbours\n",
    "    \n",
    "    \n",
    "    \n",
    "    \n",
    "    "
   ]
  },
  {
   "cell_type": "code",
   "execution_count": 35,
   "metadata": {},
   "outputs": [
    {
     "name": "stdout",
     "output_type": "stream",
     "text": [
      "[[4, 4, 4, 'b']]\n"
     ]
    }
   ],
   "source": [
    "trainSet=[[2,2,2,'a'],[4,4,4,'b']]\n",
    "testInstance = [5,5,5]\n",
    "k=1\n",
    "neighbours = getNeighbours(trainSet,testInstance, 1)\n",
    "print(neighbours)"
   ]
  },
  {
   "cell_type": "code",
   "execution_count": 36,
   "metadata": {},
   "outputs": [],
   "source": [
    "import operator\n",
    "def getResponse(neighbours):\n",
    "    classVotes = {}\n",
    "    for x in range(len(neighbours)):\n",
    "        response = neighbours[x][-1]\n",
    "        if response in classVotes:\n",
    "            classVotes[response] += 1\n",
    "        else:\n",
    "            classVotes[response] = 1\n",
    "    sortedVotes = sorted(classVotes.items(), key=operator.itemgetter(1), reverse=True)\n",
    "    return sortedVotes[0][0]\n",
    "    \n",
    "        \n",
    "        \n",
    "        \n",
    "        \n",
    "        \n",
    "        \n",
    "        \n",
    "        \n",
    "        "
   ]
  },
  {
   "cell_type": "code",
   "execution_count": 37,
   "metadata": {},
   "outputs": [
    {
     "name": "stdout",
     "output_type": "stream",
     "text": [
      "a\n"
     ]
    }
   ],
   "source": [
    "neighbours = [[1,1,1,'a'],[2,2,2,'b'],[3,3,3,'c']]\n",
    "response = getResponse(neighbours)\n",
    "print(response)\n"
   ]
  },
  {
   "cell_type": "code",
   "execution_count": 38,
   "metadata": {},
   "outputs": [],
   "source": [
    "def testAccuracy(testSet, predictions):\n",
    "    correct = 0\n",
    "    for x in range(len(testSet)):\n",
    "        if testSet[x][-1] == predictions[x]:\n",
    "            correct += 1\n",
    "    return (correct/float(len(testSet)))*100.0\n",
    "    "
   ]
  },
  {
   "cell_type": "code",
   "execution_count": 39,
   "metadata": {},
   "outputs": [
    {
     "name": "stdout",
     "output_type": "stream",
     "text": [
      "66.66666666666666\n"
     ]
    }
   ],
   "source": [
    "testSet = [[1,1,1,'a'],[2,2,2,'a'],[3,3,3,'c']]\n",
    "predictions = ['a','a','a']\n",
    "accuracy = testAccuracy(testSet, predictions)\n",
    "print(accuracy)"
   ]
  },
  {
   "cell_type": "code",
   "execution_count": 40,
   "metadata": {},
   "outputs": [
    {
     "name": "stdout",
     "output_type": "stream",
     "text": [
      "Train Set: 14\n",
      "Test Set: 3\n",
      "> predicted= 'Iris-Setosa', actual= 'Iris-Setosa'\n",
      "> predicted= 'Iris-Setosa', actual= 'Iris-Setosa'\n",
      "> predicted= 'Iris-Setosa', actual= 'Iris-Setosa'\n",
      "['Iris-Setosa', 'Iris-Setosa', 'Iris-Setosa']\n",
      "[[3.5, 1.9, 3.5, 3.5, 'Iris-Setosa'], [3.9, 2.1, 3.9, 4.1, 'Iris-Setosa'], [4.5, 2.4, 4.5, 5.0, 'Iris-Setosa']]\n",
      "Accuracy= 100.0%\n"
     ]
    }
   ],
   "source": [
    "def main():\n",
    "    # Prepare Data\n",
    "    trainingSet =[]\n",
    "    testSet =[]\n",
    "    split= 0.66\n",
    "    loadDataset(r'C:\\Users\\pulkit.goel\\Desktop\\sample.csv',split, trainingSet, testSet)\n",
    "    print('Train Set: ' + repr(len(trainingSet)) )\n",
    "    #print(trainingSet)\n",
    "    print('Test Set: ' + repr(len(testSet)))\n",
    "    #print(testSet)\n",
    "    # generate Predictions\n",
    "    predictions=[]\n",
    "    k=3\n",
    "    for x in range(len(testSet)):\n",
    "        neighbours= getNeighbours(trainingSet, testSet[x], k)\n",
    "        result = getResponse(neighbours)\n",
    "        predictions.append(result)\n",
    "        print('> predicted= ' + repr(result) + ', actual= ' + repr(testSet[x][-1]))\n",
    "    print(predictions)\n",
    "    print(testSet)\n",
    "    accuracy = testAccuracy(testSet, predictions)\n",
    "    print('Accuracy= ' + repr(accuracy) + '%')\n",
    "    \n",
    "main()\n"
   ]
  }
 ],
 "metadata": {
  "kernelspec": {
   "display_name": "Python 3",
   "language": "python",
   "name": "python3"
  },
  "language_info": {
   "codemirror_mode": {
    "name": "ipython",
    "version": 3
   },
   "file_extension": ".py",
   "mimetype": "text/x-python",
   "name": "python",
   "nbconvert_exporter": "python",
   "pygments_lexer": "ipython3",
   "version": "3.7.3"
  }
 },
 "nbformat": 4,
 "nbformat_minor": 2
}
